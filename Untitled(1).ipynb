{
 "cells": [
  {
   "cell_type": "code",
   "execution_count": 3,
   "id": "314d9989-fcc3-48f7-a297-dbab8a530c7f",
   "metadata": {},
   "outputs": [],
   "source": [
    "import torch\n",
    "import torch.nn as nn\n",
    "import torch.optim as optim\n",
    "import torchvision\n",
    "import torchvision.transforms as transforms\n",
    "from torch.utils.data import DataLoader\n",
    "import torchvision.datasets as datasets\n",
    "import matplotlib.pyplot as plt"
   ]
  },
  {
   "cell_type": "code",
   "execution_count": 4,
   "id": "6fe02a97-4a90-4ce0-be1c-e9b505c80a79",
   "metadata": {},
   "outputs": [],
   "source": [
    "device = torch.device(\"cuda\" if torch.cuda.is_available() else \"cpu\")"
   ]
  },
  {
   "cell_type": "code",
   "execution_count": 5,
   "id": "16eb2858-c3f2-46d7-b196-41173c47af19",
   "metadata": {},
   "outputs": [],
   "source": [
    "#数据预处理\n",
    "data_transform = transforms.Compose([\n",
    "    transforms.Resize((224, 224)), \n",
    "    transforms.ToTensor(), \n",
    "    transforms.Normalize((0.5, 0.5, 0.5), (0.5, 0.5, 0.5))\n",
    "])"
   ]
  },
  {
   "cell_type": "code",
   "execution_count": 6,
   "id": "2df056f5-21dd-4692-a726-960c0ab98428",
   "metadata": {},
   "outputs": [],
   "source": [
    "# 加载数据\n",
    "train_sets = datasets.CIFAR10(root='cifar_10', train=True, download=True, transform=data_transform)\n",
    "train_loader = DataLoader(train_sets, batch_size=64, shuffle=True, num_workers=4, pin_memory=True)\n",
    "test_sets = datasets.CIFAR10(root='cifar_10', train=False, download=True, transform=data_transform)\n",
    "test_loader = DataLoader(test_sets, batch_size=64, shuffle=False, num_workers=4, pin_memory=True)"
   ]
  },
  {
   "cell_type": "code",
   "execution_count": 7,
   "id": "37c7233c-31af-4f36-b5c1-253bfd8689e8",
   "metadata": {},
   "outputs": [],
   "source": [
    "class Inception(nn.Module):\n",
    "    def __init__(self, in_channels, ch1x1, ch3x3red, ch3x3, ch5x5red, ch5x5, pool_proj):\n",
    "        super(Inception, self).__init__()\n",
    "        self.branch1 = nn.Sequential(\n",
    "            nn.Conv2d(in_channels, ch1x1, kernel_size=1),\n",
    "            nn.ReLU(inplace=True)\n",
    "        )\n",
    "        self.branch2 = nn.Sequential(\n",
    "            nn.Conv2d(in_channels, ch3x3red, kernel_size=1),\n",
    "            nn.ReLU(inplace=True),\n",
    "            nn.Conv2d(ch3x3red, ch3x3, kernel_size=3, padding=1),\n",
    "            nn.ReLU(inplace=True)\n",
    "        )\n",
    "        self.branch3 = nn.Sequential(\n",
    "            nn.Conv2d(in_channels, ch5x5red, kernel_size=1),\n",
    "            nn.ReLU(inplace=True),\n",
    "            nn.Conv2d(ch5x5red, ch5x5, kernel_size=5, padding=2),\n",
    "            nn.ReLU(inplace=True)\n",
    "        )\n",
    "        self.branch4 = nn.Sequential(\n",
    "            nn.MaxPool2d(kernel_size=3, stride=1, padding=1),\n",
    "            nn.Conv2d(in_channels, pool_proj, kernel_size=1),\n",
    "            nn.ReLU(inplace=True)\n",
    "        )\n",
    "\n",
    "    def forward(self, x):\n",
    "        branch1 = self.branch1(x)\n",
    "        branch2 = self.branch2(x)\n",
    "        branch3 = self.branch3(x)\n",
    "        branch4 = self.branch4(x)\n",
    "        return torch.cat([branch1, branch2, branch3, branch4], 1)"
   ]
  },
  {
   "cell_type": "code",
   "execution_count": 8,
   "id": "9e2f41ae-7485-40e3-9123-08e66d19ae3b",
   "metadata": {},
   "outputs": [],
   "source": [
    "# 定义模型\n",
    "class GoogLeNet(nn.Module):\n",
    "    def __init__(self, num_classes=10):\n",
    "        super(GoogLeNet, self).__init__()\n",
    "        self.pre_layers = nn.Sequential(\n",
    "            nn.Conv2d(3, 64, kernel_size=7, stride=2, padding=3),\n",
    "            nn.ReLU(inplace=True),\n",
    "            nn.MaxPool2d(kernel_size=3, stride=2, padding=1)\n",
    "        )\n",
    "        self.inception1 = Inception(64, 64, 96, 128, 16, 32, 32)\n",
    "        self.inception2 = Inception(256, 128, 128, 192, 32, 96, 64)\n",
    "        self.avgpool = nn.AdaptiveAvgPool2d((1, 1))\n",
    "        self.dropout = nn.Dropout(0.4)\n",
    "        self.fc = nn.Linear(480, num_classes)\n",
    "\n",
    "    def forward(self, x):\n",
    "        x = self.pre_layers(x)\n",
    "        x = self.inception1(x)\n",
    "        x = self.inception2(x)\n",
    "        x = self.avgpool(x)\n",
    "        x = x.view(x.size(0), -1)\n",
    "        x = self.dropout(x)\n",
    "        x = self.fc(x)\n",
    "        return x"
   ]
  },
  {
   "cell_type": "code",
   "execution_count": 9,
   "id": "2f9f9f21-3c23-4bca-b8aa-27d38835e86a",
   "metadata": {},
   "outputs": [],
   "source": [
    "model = GoogLeNet().to(device)\n",
    "criterion = nn.CrossEntropyLoss()\n",
    "optimizer = optim.SGD(model.parameters(), lr=0.01, momentum=0.9)"
   ]
  },
  {
   "cell_type": "code",
   "execution_count": 10,
   "id": "c6ec4f62-b343-4f84-aad8-7d6e8f7412a2",
   "metadata": {},
   "outputs": [],
   "source": [
    "train_losses = []\n",
    "# 训练函数\n",
    "def train(epoch):\n",
    "    model.train()\n",
    "    running_loss = 0.0\n",
    "    for i, (inputs, labels) in enumerate(train_loader, 0):\n",
    "        inputs, labels = inputs.to(device), labels.to(device)\n",
    "        \n",
    "        optimizer.zero_grad()\n",
    "        outputs = model(inputs)\n",
    "        loss = criterion(outputs, labels)\n",
    "        loss.backward()\n",
    "        optimizer.step()\n",
    "        \n",
    "        running_loss += loss.item()\n",
    "        if i % 100 == 99:\n",
    "            avg_loss = running_loss / 100\n",
    "            print(f'[Epoch {epoch + 1}, Batch {i + 1}] Loss: {avg_loss:.3f}')\n",
    "            train_losses.append(avg_loss)  # 记录每个100批次的平均损失\n",
    "            running_loss = 0.0"
   ]
  },
  {
   "cell_type": "code",
   "execution_count": 11,
   "id": "f745ea68-a0a6-4b27-b3f9-f12a22f5cfab",
   "metadata": {},
   "outputs": [],
   "source": [
    "\n",
    "# 训练函数\n",
    "def test():\n",
    "    model.eval()\n",
    "    correct = 0\n",
    "    total = 0\n",
    "    with torch.no_grad():\n",
    "        for inputs, labels in test_loader:\n",
    "            inputs, labels = inputs.to(device), labels.to(device)\n",
    "            outputs = model(inputs)\n",
    "            _, predicted = torch.max(outputs.data, 1)\n",
    "            total += labels.size(0)\n",
    "            correct += (predicted == labels).sum().item()\n",
    "    accuracy = 100 * correct / total\n",
    "    print(f'Accuracy on test set: {accuracy:.2f}%')\n",
    "    return accuracy"
   ]
  },
  {
   "cell_type": "code",
   "execution_count": 12,
   "id": "0147ce51-ce78-4423-a00b-2d5af630fb55",
   "metadata": {},
   "outputs": [],
   "source": [
    "def plot_train_loss():\n",
    "    plt.figure(figsize=(10, 5))\n",
    "    plt.plot(train_losses, label='Training Loss')\n",
    "    plt.title('Training Loss Over Time')\n",
    "    plt.xlabel('Iterations (per 100 batches')\n",
    "    plt.ylabel('Loss')\n",
    "    plt.legend()\n",
    "    plt.grid(True)\n",
    "    plt.savefig('train_loss_curve.png')  #  saving as picture\n",
    "    plt.close()\n",
    "    print(\"Training loss curve has been saved as 'train_loss_curve.png'\")"
   ]
  },
  {
   "cell_type": "code",
   "execution_count": null,
   "id": "4081215e-22b5-4dfd-993f-30aa22685722",
   "metadata": {},
   "outputs": [
    {
     "name": "stdout",
     "output_type": "stream",
     "text": [
      "[Epoch 1, Batch 100] Loss: 2.300\n",
      "[Epoch 1, Batch 200] Loss: 2.288\n",
      "[Epoch 1, Batch 300] Loss: 2.220\n",
      "[Epoch 1, Batch 400] Loss: 2.104\n",
      "[Epoch 1, Batch 500] Loss: 2.088\n",
      "[Epoch 1, Batch 600] Loss: 2.076\n",
      "[Epoch 1, Batch 700] Loss: 2.040\n",
      "Accuracy on test set: 26.61%\n",
      "[Epoch 2, Batch 100] Loss: 2.005\n",
      "[Epoch 2, Batch 200] Loss: 2.004\n",
      "[Epoch 2, Batch 300] Loss: 1.990\n",
      "[Epoch 2, Batch 400] Loss: 1.973\n",
      "[Epoch 2, Batch 500] Loss: 1.947\n",
      "[Epoch 2, Batch 600] Loss: 1.936\n",
      "[Epoch 2, Batch 700] Loss: 1.917\n",
      "Accuracy on test set: 31.66%\n",
      "[Epoch 3, Batch 100] Loss: 1.885\n",
      "[Epoch 3, Batch 200] Loss: 1.829\n",
      "[Epoch 3, Batch 300] Loss: 1.820\n",
      "[Epoch 3, Batch 400] Loss: 1.793\n",
      "[Epoch 3, Batch 500] Loss: 1.778\n",
      "[Epoch 3, Batch 600] Loss: 1.776\n",
      "[Epoch 3, Batch 700] Loss: 1.737\n",
      "Accuracy on test set: 34.77%\n",
      "[Epoch 4, Batch 100] Loss: 1.722\n",
      "[Epoch 4, Batch 200] Loss: 1.718\n",
      "[Epoch 4, Batch 300] Loss: 1.725\n",
      "[Epoch 4, Batch 400] Loss: 1.722\n",
      "[Epoch 4, Batch 500] Loss: 1.727\n",
      "[Epoch 4, Batch 600] Loss: 1.689\n",
      "[Epoch 4, Batch 700] Loss: 1.697\n",
      "Accuracy on test set: 38.89%\n",
      "[Epoch 5, Batch 100] Loss: 1.666\n",
      "[Epoch 5, Batch 200] Loss: 1.650\n",
      "[Epoch 5, Batch 300] Loss: 1.643\n",
      "[Epoch 5, Batch 400] Loss: 1.623\n",
      "[Epoch 5, Batch 500] Loss: 1.628\n",
      "[Epoch 5, Batch 600] Loss: 1.624\n",
      "[Epoch 5, Batch 700] Loss: 1.601\n",
      "Accuracy on test set: 41.68%\n"
     ]
    }
   ],
   "source": [
    "num_epochs = 5\n",
    "best_accuracy = 0.0\n",
    "for epoch in range(num_epochs):\n",
    "    train(epoch)\n",
    "    accuracy = test()\n",
    "    if accuracy > best_accuracy:\n",
    "        best_accuracy = accuracy\n",
    "        torch.save(model.state_dict(), 'googlenet_cifar10_best.pth')\n",
    "\n",
    "# 可视化训练损失\n",
    "plot_train_loss()\n",
    "\n",
    "print(f'训练完成！最佳测试准确率: {best_accuracy:.2f}%')\n"
   ]
  },
  {
   "cell_type": "code",
   "execution_count": 55,
   "id": "60ff8e20-5c61-49fc-8e48-3cba432aa9c4",
   "metadata": {},
   "outputs": [],
   "source": []
  },
  {
   "cell_type": "code",
   "execution_count": null,
   "id": "75da769d-4272-4006-84fe-9655160182dc",
   "metadata": {},
   "outputs": [],
   "source": []
  }
 ],
 "metadata": {
  "kernelspec": {
   "display_name": "Python 3 (ipykernel)",
   "language": "python",
   "name": "python3"
  },
  "language_info": {
   "codemirror_mode": {
    "name": "ipython",
    "version": 3
   },
   "file_extension": ".py",
   "mimetype": "text/x-python",
   "name": "python",
   "nbconvert_exporter": "python",
   "pygments_lexer": "ipython3",
   "version": "3.12.7"
  }
 },
 "nbformat": 4,
 "nbformat_minor": 5
}
